{
 "cells": [
  {
   "cell_type": "code",
   "execution_count": 1,
   "id": "8f04ebff",
   "metadata": {},
   "outputs": [],
   "source": [
    "import classification_trees as trees\n",
    "import numpy as np\n",
    "import time\n",
    "from sklearn.model_selection import train_test_split\n",
    "from sklearn.metrics import confusion_matrix\n",
    "from sklearn.model_selection import KFold\n",
    "import itertools\n",
    "from typing import Tuple"
   ]
  },
  {
   "cell_type": "code",
   "execution_count": 2,
   "id": "68085f4b",
   "metadata": {},
   "outputs": [],
   "source": [
    "def accuracy(y_test, y_pred):\n",
    "    cf_matrix = confusion_matrix(y_test, y_pred)\n",
    "    tn, fp, fn, tp = cf_matrix.ravel()\n",
    "#     print(cf_matrix)\n",
    "\n",
    "    accuracy = (tn + tp)/(tn + tp + fp + fn)\n",
    "    print(f'Accuracy {accuracy:.2f}')\n",
    "    return accuracy"
   ]
  },
  {
   "cell_type": "code",
   "execution_count": 3,
   "id": "abb943a7",
   "metadata": {},
   "outputs": [],
   "source": [
    "# Generate train and test set\n",
    "data = np.genfromtxt(\"pima-indians-diabetes.csv\", delimiter=',')\n",
    "X, y = data[:, 0:8], data[:, 8]\n",
    "y = y.astype('int64')"
   ]
  },
  {
   "cell_type": "code",
   "execution_count": 4,
   "id": "4e178841",
   "metadata": {},
   "outputs": [
    {
     "data": {
      "text/plain": [
       "array([0, 0, 1, 1, 0, 0, 0, 0, 1, 0, 1, 0, 0, 0, 0, 0, 1, 1, 0, 1, 1, 1,\n",
       "       0, 1, 0, 0, 0, 1, 0, 0, 0, 0, 1, 1, 1, 0, 1, 0, 0])"
      ]
     },
     "execution_count": 4,
     "metadata": {},
     "output_type": "execute_result"
    }
   ],
   "source": [
    "X, X_val, y, y_val = train_test_split(X, y, test_size=0.05, random_state=1234)\n",
    "y_val"
   ]
  },
  {
   "cell_type": "code",
   "execution_count": 5,
   "id": "ad34aaa8",
   "metadata": {},
   "outputs": [
    {
     "name": "stdout",
     "output_type": "stream",
     "text": [
      "Time: 4.09s\n",
      "Accuracy 0.79\n"
     ]
    },
    {
     "data": {
      "text/plain": [
       "0.7948717948717948"
      ]
     },
     "execution_count": 5,
     "metadata": {},
     "output_type": "execute_result"
    }
   ],
   "source": [
    "# Test, don't use\n",
    "t1 = time.time()\n",
    "\n",
    "rf_clf = trees.RandomForestClassifier()\n",
    "rf_clf.fit(X, y)\n",
    "\n",
    "t2 = time.time()\n",
    "print(f'Time: {t2-t1:.2f}s')\n",
    "\n",
    "y_pred = rf_clf.predict(X_val)\n",
    "accuracy(y_val, y_pred)"
   ]
  },
  {
   "cell_type": "code",
   "execution_count": 6,
   "id": "cae17f97",
   "metadata": {},
   "outputs": [
    {
     "name": "stdout",
     "output_type": "stream",
     "text": [
      "2 1 10\n",
      "Accuracy 0.73\n",
      "Accuracy 0.77\n",
      "Accuracy 0.72\n",
      "Accuracy 0.75\n",
      "Accuracy 0.74\n",
      "2 1 20\n",
      "Accuracy 0.74\n",
      "Accuracy 0.78\n",
      "Accuracy 0.70\n",
      "Accuracy 0.77\n",
      "Accuracy 0.74\n",
      "2 1 30\n",
      "Accuracy 0.72\n",
      "Accuracy 0.79\n",
      "Accuracy 0.74\n",
      "Accuracy 0.78\n",
      "Accuracy 0.74\n",
      "2 1 40\n",
      "Accuracy 0.73\n",
      "Accuracy 0.80\n",
      "Accuracy 0.75\n",
      "Accuracy 0.80\n",
      "Accuracy 0.77\n",
      "2 1 50\n",
      "Accuracy 0.73\n",
      "Accuracy 0.80\n",
      "Accuracy 0.73\n",
      "Accuracy 0.80\n",
      "Accuracy 0.76\n",
      "2 1 100\n",
      "Accuracy 0.73\n",
      "Accuracy 0.79\n",
      "Accuracy 0.73\n",
      "Accuracy 0.81\n",
      "Accuracy 0.76\n",
      "2 1 150\n",
      "Accuracy 0.74\n",
      "Accuracy 0.79\n",
      "Accuracy 0.77\n",
      "Accuracy 0.82\n",
      "Accuracy 0.75\n",
      "2 1 200\n",
      "Accuracy 0.75\n",
      "Accuracy 0.79\n",
      "Accuracy 0.73\n",
      "Accuracy 0.81\n",
      "Accuracy 0.77\n",
      "2 2 10\n",
      "Accuracy 0.74\n",
      "Accuracy 0.75\n",
      "Accuracy 0.69\n",
      "Accuracy 0.77\n",
      "Accuracy 0.75\n",
      "2 2 20\n",
      "Accuracy 0.75\n",
      "Accuracy 0.79\n",
      "Accuracy 0.71\n",
      "Accuracy 0.79\n",
      "Accuracy 0.72\n",
      "2 2 30\n",
      "Accuracy 0.77\n",
      "Accuracy 0.76\n",
      "Accuracy 0.70\n",
      "Accuracy 0.82\n",
      "Accuracy 0.74\n",
      "2 2 40\n",
      "Accuracy 0.77\n",
      "Accuracy 0.82\n",
      "Accuracy 0.73\n",
      "Accuracy 0.80\n",
      "Accuracy 0.77\n",
      "2 2 50\n",
      "Accuracy 0.75\n",
      "Accuracy 0.77\n",
      "Accuracy 0.74\n",
      "Accuracy 0.80\n",
      "Accuracy 0.74\n",
      "2 2 100\n",
      "Accuracy 0.75\n",
      "Accuracy 0.77\n",
      "Accuracy 0.75\n",
      "Accuracy 0.79\n",
      "Accuracy 0.77\n",
      "2 2 150\n",
      "Accuracy 0.73\n",
      "Accuracy 0.80\n",
      "Accuracy 0.75\n",
      "Accuracy 0.78\n",
      "Accuracy 0.77\n",
      "2 2 200\n",
      "Accuracy 0.74\n",
      "Accuracy 0.79\n",
      "Accuracy 0.74\n",
      "Accuracy 0.81\n",
      "Accuracy 0.77\n",
      "3 1 10\n",
      "Accuracy 0.73\n",
      "Accuracy 0.77\n",
      "Accuracy 0.73\n",
      "Accuracy 0.75\n",
      "Accuracy 0.74\n",
      "3 1 20\n",
      "Accuracy 0.72\n",
      "Accuracy 0.75\n",
      "Accuracy 0.73\n",
      "Accuracy 0.77\n",
      "Accuracy 0.76\n",
      "3 1 30\n",
      "Accuracy 0.72\n",
      "Accuracy 0.79\n",
      "Accuracy 0.74\n",
      "Accuracy 0.79\n",
      "Accuracy 0.73\n",
      "3 1 40\n",
      "Accuracy 0.73\n",
      "Accuracy 0.79\n",
      "Accuracy 0.74\n",
      "Accuracy 0.82\n",
      "Accuracy 0.72\n",
      "3 1 50\n",
      "Accuracy 0.75\n",
      "Accuracy 0.77\n",
      "Accuracy 0.72\n",
      "Accuracy 0.83\n",
      "Accuracy 0.76\n",
      "3 1 100\n",
      "Accuracy 0.73\n",
      "Accuracy 0.79\n",
      "Accuracy 0.72\n",
      "Accuracy 0.81\n",
      "Accuracy 0.75\n",
      "3 1 150\n",
      "Accuracy 0.74\n",
      "Accuracy 0.79\n",
      "Accuracy 0.74\n",
      "Accuracy 0.77\n",
      "Accuracy 0.76\n",
      "3 1 200\n",
      "Accuracy 0.74\n",
      "Accuracy 0.80\n",
      "Accuracy 0.77\n",
      "Accuracy 0.79\n",
      "Accuracy 0.78\n",
      "3 2 10\n",
      "Accuracy 0.68\n",
      "Accuracy 0.77\n",
      "Accuracy 0.73\n",
      "Accuracy 0.78\n",
      "Accuracy 0.77\n",
      "3 2 20\n",
      "Accuracy 0.75\n",
      "Accuracy 0.75\n",
      "Accuracy 0.72\n",
      "Accuracy 0.79\n",
      "Accuracy 0.79\n",
      "3 2 30\n",
      "Accuracy 0.72\n",
      "Accuracy 0.79\n",
      "Accuracy 0.73\n",
      "Accuracy 0.78\n",
      "Accuracy 0.74\n",
      "3 2 40\n",
      "Accuracy 0.73\n",
      "Accuracy 0.79\n",
      "Accuracy 0.71\n",
      "Accuracy 0.80\n",
      "Accuracy 0.76\n",
      "3 2 50\n",
      "Accuracy 0.77\n",
      "Accuracy 0.78\n",
      "Accuracy 0.75\n",
      "Accuracy 0.79\n",
      "Accuracy 0.77\n",
      "3 2 100\n",
      "Accuracy 0.75\n",
      "Accuracy 0.79\n",
      "Accuracy 0.73\n",
      "Accuracy 0.82\n",
      "Accuracy 0.77\n",
      "3 2 150\n",
      "Accuracy 0.71\n",
      "Accuracy 0.78\n",
      "Accuracy 0.74\n",
      "Accuracy 0.82\n",
      "Accuracy 0.77\n",
      "3 2 200\n",
      "Accuracy 0.76\n",
      "Accuracy 0.78\n",
      "Accuracy 0.73\n",
      "Accuracy 0.82\n",
      "Accuracy 0.78\n"
     ]
    }
   ],
   "source": [
    "# Best hyperparameter search for RF\n",
    "def find_best_hyperparams(params: Tuple[int, int, int]) -> Tuple[int, int, int, float]:\n",
    "       \n",
    "    nmin, minleaf, ntrees = params\n",
    "    print(nmin, minleaf, ntrees)\n",
    "    kf = KFold(n_splits=5)\n",
    "    accuracies = [] # Accuracy on each test fold. With k = 5 we evaluate 5 models per parameter combination\n",
    "    for train_idxs, test_idxs in kf.split(X):\n",
    "        X_train, X_test, y_train, y_test = X[train_idxs], X[test_idxs], y[train_idxs], y[test_idxs]\n",
    "        rf_clf = trees.RandomForestClassifier(ntrees=ntrees, nmin=nmin, minleaf=minleaf)\n",
    "        rf_clf.fit(X_train, y_train)\n",
    "        y_pred = rf_clf.predict(X_test)\n",
    "        accuracies.append(accuracy(y_test, y_pred))\n",
    "    \n",
    "    return (nmin, minleaf, ntrees, np.mean(accuracies))\n",
    "    \n",
    "    \n",
    "nmin = range(2, 4)\n",
    "minleaf = range(1, 3)\n",
    "ntrees = [10, 20, 30, 40, 50, 100, 150, 200]\n",
    "cartesian_product = list(itertools.product(nmin, minleaf, ntrees))\n",
    "\n",
    "hyperparams = list(map(find_best_hyperparams, cartesian_product))"
   ]
  },
  {
   "cell_type": "code",
   "execution_count": 8,
   "id": "112fcf71",
   "metadata": {},
   "outputs": [
    {
     "data": {
      "text/plain": [
       "(2, 2, 40, 0.7777704298535664)"
      ]
     },
     "execution_count": 8,
     "metadata": {},
     "output_type": "execute_result"
    }
   ],
   "source": [
    "max(hyperparams, key=lambda x: x[3])"
   ]
  },
  {
   "cell_type": "code",
   "execution_count": 7,
   "id": "2e58f447",
   "metadata": {},
   "outputs": [
    {
     "data": {
      "text/plain": [
       "[(2, 1, 10, 0.7434860651865848),\n",
       " (2, 1, 20, 0.7462163438828531),\n",
       " (2, 1, 30, 0.7530656589513463),\n",
       " (2, 1, 40, 0.7695418044402456),\n",
       " (2, 1, 50, 0.764052905054322),\n",
       " (2, 1, 100, 0.7640529050543222),\n",
       " (2, 1, 150, 0.7736324988190836),\n",
       " (2, 1, 200, 0.7668020784128483),\n",
       " (2, 2, 10, 0.7393859234766178),\n",
       " (2, 2, 20, 0.7544166273027869),\n",
       " (2, 2, 30, 0.7558053849787435),\n",
       " (2, 2, 40, 0.7777704298535664),\n",
       " (2, 2, 50, 0.7599149740198393),\n",
       " (2, 2, 100, 0.7640717997165801),\n",
       " (2, 2, 150, 0.7668115257439773),\n",
       " (2, 2, 200, 0.7695418044402456),\n",
       " (3, 1, 10, 0.7434860651865848),\n",
       " (3, 1, 20, 0.7448748228625414),\n",
       " (3, 1, 30, 0.754426074633916),\n",
       " (3, 1, 40, 0.7612659423712802),\n",
       " (3, 1, 50, 0.7667926310817194),\n",
       " (3, 1, 100, 0.7585640056683987),\n",
       " (3, 1, 150, 0.7599433160132263),\n",
       " (3, 1, 200, 0.7764100141709968),\n",
       " (3, 2, 10, 0.7448842701936703),\n",
       " (3, 2, 20, 0.7613604156825697),\n",
       " (3, 2, 30, 0.7517052432687766),\n",
       " (3, 2, 40, 0.7585734529995275),\n",
       " (3, 2, 50, 0.7736608408124704),\n",
       " (3, 2, 100, 0.7722909777987719),\n",
       " (3, 2, 150, 0.7626924893717525),\n",
       " (3, 2, 200, 0.7736702881435995)]"
      ]
     },
     "execution_count": 7,
     "metadata": {},
     "output_type": "execute_result"
    }
   ],
   "source": [
    "hyperparams"
   ]
  },
  {
   "cell_type": "code",
   "execution_count": null,
   "id": "8a2fff1b",
   "metadata": {},
   "outputs": [],
   "source": [
    "# Train RF classifier on best hyperparam and test accuracy on validation set"
   ]
  }
 ],
 "metadata": {
  "kernelspec": {
   "display_name": "Python 3",
   "language": "python",
   "name": "python3"
  },
  "language_info": {
   "codemirror_mode": {
    "name": "ipython",
    "version": 3
   },
   "file_extension": ".py",
   "mimetype": "text/x-python",
   "name": "python",
   "nbconvert_exporter": "python",
   "pygments_lexer": "ipython3",
   "version": "3.8.5"
  }
 },
 "nbformat": 4,
 "nbformat_minor": 5
}
